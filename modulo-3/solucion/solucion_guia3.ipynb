{
 "cells": [
  {
   "cell_type": "code",
   "execution_count": 39,
   "metadata": {},
   "outputs": [],
   "source": [
    "import numpy as np\n",
    "import pandas as pd\n",
    "import matplotlib.pyplot as plt"
   ]
  },
  {
   "attachments": {},
   "cell_type": "markdown",
   "metadata": {},
   "source": [
    "#### Ejercicio 1: Creación y manipulación de arrays en NumPy\n",
    "\n",
    "Crea un array de dos dimensiones en NumPy con al menos 10 elementos. Luego, cambia la forma del array a una de 5x2."
   ]
  },
  {
   "cell_type": "code",
   "execution_count": 40,
   "metadata": {},
   "outputs": [
    {
     "name": "stdout",
     "output_type": "stream",
     "text": [
      "\n",
      "Array:\n",
      " [[ 1  2  3  4  5]\n",
      " [ 6  7  8  9 10]]\n",
      "Forma:  (2, 5)\n",
      "\n",
      "Array modificado:\n",
      " [[ 1  2]\n",
      " [ 3  4]\n",
      " [ 5  6]\n",
      " [ 7  8]\n",
      " [ 9 10]]\n",
      "Forma:  (5, 2)\n"
     ]
    }
   ],
   "source": [
    "array1 = np.array([[1, 2, 3, 4, 5], [6, 7, 8, 9, 10]])      # Creando array de 2x5 elementos\n",
    "\n",
    "print(\"\\nArray:\\n\", array1)\n",
    "print(\"Forma: \", array1.shape)\n",
    "\n",
    "array1 = array1.reshape(5, 2)       # Cambiando la forma del array y sobreescribiendo la variable para actualizar el valor\n",
    "\n",
    "print(\"\\nArray modificado:\\n\", array1)\n",
    "print(\"Forma: \", array1.shape)"
   ]
  },
  {
   "attachments": {},
   "cell_type": "markdown",
   "metadata": {},
   "source": [
    "#### Ejercicio 2: Operaciones básicas en NumPy\n",
    "\n",
    "Crea dos arrays de una dimensión con 5 elementos cada uno. Realiza operaciones matemáticas básicas entre ellos como suma, resta, multiplicación y división."
   ]
  },
  {
   "cell_type": "code",
   "execution_count": 41,
   "metadata": {},
   "outputs": [
    {
     "name": "stdout",
     "output_type": "stream",
     "text": [
      "\n",
      "Suma:\n",
      "[0 2 4 6 8]\n",
      "\n",
      "Resta:\n",
      "[0 0 0 0 0]\n",
      "\n",
      "Multiplicacion:\n",
      "[ 0  1  4  9 16]\n",
      "\n",
      "Division:\n",
      "[0.  0.5 1.  1.5 2. ]\n"
     ]
    }
   ],
   "source": [
    "array2 = np.arange(5)\n",
    "array3 = np.arange(5)\n",
    "\n",
    "print(\"\\nSuma:\")\n",
    "print(array2 + array3)\n",
    "print(\"\\nResta:\")\n",
    "print(array2 - array3)\n",
    "print(\"\\nMultiplicacion:\")\n",
    "print(array2 * array3)\n",
    "print(\"\\nDivision:\")\n",
    "print(array2 / 2)"
   ]
  },
  {
   "attachments": {},
   "cell_type": "markdown",
   "metadata": {},
   "source": [
    "#### Ejercicio 3: Uso de funciones de agregación en NumPy \n",
    "\n",
    "Crea un array de una dimensión con 10 elementos. Calcula la suma, el mínimo, el máximo y la media de los elementos del array."
   ]
  },
  {
   "cell_type": "code",
   "execution_count": 42,
   "metadata": {},
   "outputs": [
    {
     "name": "stdout",
     "output_type": "stream",
     "text": [
      "\n",
      "Array 1D random: [18  3  4 19 17 16  4 13  0  1]\n",
      "\n",
      "Suma de sus elementos: 95\n",
      "Minimo: 0\n",
      "Maximo: 19\n",
      "Promedio: 9.5\n",
      "Valor del medio: 8.5\n"
     ]
    }
   ],
   "source": [
    "array4 = np.random.randint(20, size=10)\n",
    "\n",
    "print(\"\\nArray 1D random:\", array4)\n",
    "print(\"\\nSuma de sus elementos:\", array4.sum())\n",
    "print(\"Minimo:\", array4.min())\n",
    "print(\"Maximo:\", array4.max())\n",
    "print(\"Promedio:\", np.mean(array4))\n",
    "print(\"Valor del medio:\", np.median(array4))"
   ]
  },
  {
   "attachments": {},
   "cell_type": "markdown",
   "metadata": {},
   "source": [
    "#### Ejercicio 4: Indexación y slicing en NumPy\n",
    "\n",
    "Crea un array de una dimensión con 10 elementos. Accede a los primeros 5 elementos, los últimos 5 elementos y los elementos en las posiciones impares."
   ]
  },
  {
   "cell_type": "code",
   "execution_count": 43,
   "metadata": {},
   "outputs": [
    {
     "name": "stdout",
     "output_type": "stream",
     "text": [
      "\n",
      "Array 1D random: [79 88 96 53 62 62 97 66 90 44]\n",
      "\n",
      "Primeros 5 elementos: [79 88 96 53 62]\n",
      "Ultimos 5: [62 97 66 90 44]\n",
      "*Indices impares: [79 96 62 97 90]\n"
     ]
    }
   ],
   "source": [
    "array5 = np.random.randint(100, size=10)\n",
    "\n",
    "print(\"\\nArray 1D random:\", array5)\n",
    "print(\"\\nPrimeros 5 elementos:\", array5[:5])\n",
    "print(\"Ultimos 5:\", array5[-5:])\n",
    "print(\"*Indices impares:\", array5[::2])"
   ]
  },
  {
   "attachments": {},
   "cell_type": "markdown",
   "metadata": {},
   "source": [
    "#### Ejercicio 5: Creación y manipulación de DataFrames en Pandas:\n",
    "\n",
    "Crea un DataFrame con al menos 3 columnas y 10 filas. Luego, selecciona una columna específica y realiza operaciones básicas como suma, resta, multiplicación y división con un número específico."
   ]
  },
  {
   "cell_type": "code",
   "execution_count": 44,
   "metadata": {},
   "outputs": [
    {
     "name": "stdout",
     "output_type": "stream",
     "text": [
      "       marcas   modelos   año   precio  ventas\n",
      "0   Chevrolet    Camaro  2020    25000    5000\n",
      "1        Ford   Mustang  2019    26000    3000\n",
      "2  Oldsmobile     Alero  2001     3000     200\n",
      "3     Pontiac  Firebird  2002     4000     500\n",
      "4       Honda     Civic  2021    22000   10000\n",
      "5      Nissan    Altima  2020    23000    8000\n",
      "6  Mitsubishi   Eclipse  2003     7000    1500\n",
      "7     Renault      Clio  2005     5000    7000\n",
      "8     Ferrari       F40  1992  1300000      10\n",
      "9     Porsche       911  2022   114000    1200\n",
      "\n",
      "Multiplicando 'precio' x 'unidades vendidas':\n",
      "       marcas   modelos   año   precio  ventas      total\n",
      "0   Chevrolet    Camaro  2020    25000    5000  125000000\n",
      "1        Ford   Mustang  2019    26000    3000   78000000\n",
      "2  Oldsmobile     Alero  2001     3000     200     600000\n",
      "3     Pontiac  Firebird  2002     4000     500    2000000\n",
      "4       Honda     Civic  2021    22000   10000  220000000\n",
      "5      Nissan    Altima  2020    23000    8000  184000000\n",
      "6  Mitsubishi   Eclipse  2003     7000    1500   10500000\n",
      "7     Renault      Clio  2005     5000    7000   35000000\n",
      "8     Ferrari       F40  1992  1300000      10   13000000\n",
      "9     Porsche       911  2022   114000    1200  136800000\n",
      "\n"
     ]
    }
   ],
   "source": [
    "autos = {\n",
    "    \"marcas\": [\"Chevrolet\", \"Ford\", \"Oldsmobile\", \"Pontiac\", \"Honda\", \"Nissan\", \"Mitsubishi\", \"Renault\", \"Ferrari\", \"Porsche\"],\n",
    "    \"modelos\": [\"Camaro\", \"Mustang\", \"Alero\", \"Firebird\", \"Civic\", \"Altima\", \"Eclipse\", \"Clio\", \"F40\", \"911\"],\n",
    "    \"año\": [2020, 2019, 2001, 2002, 2021, 2020, 2003, 2005, 1992, 2022],\n",
    "    \"precio\": [25000, 26000, 3000, 4000, 22000, 23000, 7000, 5000, 1300000, 114000],\n",
    "    \"ventas\": [5000, 3000, 200, 500, 10000, 8000, 1500, 7000, 10, 1200]\n",
    "}\n",
    "\n",
    "df1 = pd.DataFrame(autos)\n",
    "print(df1)\n",
    "print(\"\\nMultiplicando 'precio' x 'unidades vendidas':\")\n",
    "df1[\"total\"] = df1[\"precio\"] * df1[\"ventas\"]\n",
    "print(df1)\n",
    "print()"
   ]
  },
  {
   "attachments": {},
   "cell_type": "markdown",
   "metadata": {},
   "source": [
    "#### Ejercicio 6: Visualización de datos en Pandas\n",
    "\n",
    "Crea un DataFrame con al menos 2 columnas y 10 filas. Utiliza Matplotlib para visualizar los datos en un gráfico de barras."
   ]
  },
  {
   "cell_type": "code",
   "execution_count": 52,
   "metadata": {},
   "outputs": [
    {
     "data": {
      "image/png": "[encoded data removed]",
      "text/plain": [
       "<Figure size 640x480 with 1 Axes>"
      ]
     },
     "metadata": {},
     "output_type": "display_data"
    }
   ],
   "source": [
    "df2 = df1[[\"marcas\", \"ventas\"]].copy()\n",
    "plt.bar(df2.marcas, df2.ventas)\n",
    "plt.xlabel(\"Marcas\")\n",
    "plt.xlabel(\"Ventas\")\n",
    "plt.show()"
   ]
  },
  {
   "attachments": {},
   "cell_type": "markdown",
   "metadata": {},
   "source": [
    "#### Ejercicio 7: Indexación y slicing en Pandas\n",
    "\n",
    "Crea un DataFrame con al menos 3 columnas y 10 filas. Accede a una columna específica, las primeras 5 filas, las últimas 5 filas y las filas en posiciones impares."
   ]
  },
  {
   "cell_type": "code",
   "execution_count": 46,
   "metadata": {},
   "outputs": [
    {
     "name": "stdout",
     "output_type": "stream",
     "text": [
      "\n",
      "Columna:\n",
      "0     Chevrolet\n",
      "1          Ford\n",
      "2    Oldsmobile\n",
      "3       Pontiac\n",
      "4         Honda\n",
      "5        Nissan\n",
      "6    Mitsubishi\n",
      "7       Renault\n",
      "8       Ferrari\n",
      "9       Porsche\n",
      "Name: marcas, dtype: object\n",
      "\n",
      "Primeros 5 indices:\n",
      "0     Chevrolet\n",
      "1          Ford\n",
      "2    Oldsmobile\n",
      "3       Pontiac\n",
      "4         Honda\n",
      "Name: marcas, dtype: object\n",
      "\n",
      "Ultimoss 5 indices:\n",
      "5        Nissan\n",
      "6    Mitsubishi\n",
      "7       Renault\n",
      "8       Ferrari\n",
      "9       Porsche\n",
      "Name: marcas, dtype: object\n",
      "\n",
      "Indices impares: \n",
      "0     Chevrolet\n",
      "2    Oldsmobile\n",
      "4         Honda\n",
      "6    Mitsubishi\n",
      "8       Ferrari\n",
      "Name: marcas, dtype: object\n"
     ]
    }
   ],
   "source": [
    "marcas = df1[\"marcas\"]\n",
    "print(\"\\nColumna:\")\n",
    "print(marcas)\n",
    "print(\"\\nPrimeros 5 indices:\")\n",
    "print(marcas.head())\n",
    "print(\"\\nUltimoss 5 indices:\")\n",
    "print(marcas[-5:])\n",
    "print(\"\\nIndices impares: \")\n",
    "print(marcas[::2])"
   ]
  },
  {
   "attachments": {},
   "cell_type": "markdown",
   "metadata": {},
   "source": [
    "#### Ejercicio 8: Funciones de agregación en Pandas\n",
    "\n",
    "Crea un DataFrame con al menos 3 columnas y 10 filas. Calcula la suma, el mínimo, el máximo y la media de los elementos de una columna específica."
   ]
  },
  {
   "cell_type": "code",
   "execution_count": 50,
   "metadata": {},
   "outputs": [
    {
     "name": "stdout",
     "output_type": "stream",
     "text": [
      "\n",
      "Precios:\n",
      "\n",
      "Suma:  1529000\n",
      "Precio minimo:  3000\n",
      "Precio maximo:  1300000\n",
      "Precio promedio:  22500.0\n"
     ]
    }
   ],
   "source": [
    "precios = df1[\"precio\"]\n",
    "print(\"\\nPrecios:\")\n",
    "print(\"\\nSuma: \", precios.sum())\n",
    "print(\"Precio minimo: \", precios.min())\n",
    "print(\"Precio maximo: \", precios.max())\n",
    "print(\"Precio promedio: \", precios.mean())"
   ]
  }
 ],
 "metadata": {
  "kernelspec": {
   "display_name": "venv",
   "language": "python",
   "name": "python3"
  },
  "language_info": {
   "codemirror_mode": {
    "name": "ipython",
    "version": 3
   },
   "file_extension": ".py",
   "mimetype": "text/x-python",
   "name": "python",
   "nbconvert_exporter": "python",
   "pygments_lexer": "ipython3",
   "version": "3.10.11"
  },
  "orig_nbformat": 4
 },
 "nbformat": 4,
 "nbformat_minor": 2
}
