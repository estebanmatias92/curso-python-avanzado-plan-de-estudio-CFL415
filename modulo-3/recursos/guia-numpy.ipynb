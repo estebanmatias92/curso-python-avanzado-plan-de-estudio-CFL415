{
 "cells": [
  {
   "attachments": {},
   "cell_type": "markdown",
   "metadata": {},
   "source": [
    "# Guía de NumPy\n",
    "\n",
    "## Introducción y Contexto\n",
    "\n",
    "**NumPy es una biblioteca** para el lenguaje de programación Python que **proporciona soporte para arrays y matrices grandes y multidimensionales**, junto con una gran **colección de funciones** matemáticas de alto nivel **para operar con estos arrays**.\n",
    "\n",
    "## Preparación de Datos para trabajar\n",
    "\n",
    "### Instalación y preparación de herramientas\n",
    "\n",
    "Para instalar NumPy, puedes usar pip, que es el instalador de paquetes de Python. En tu terminal, simplemente ejecuta:\n",
    "\n",
    "```bash\n",
    "pip install numpy\n",
    "```"
   ]
  },
  {
   "cell_type": "code",
   "execution_count": 2,
   "metadata": {},
   "outputs": [],
   "source": [
    "import numpy as np"
   ]
  },
  {
   "attachments": {},
   "cell_type": "markdown",
   "metadata": {},
   "source": [
    "### Creación/obtención de datos para la guía\n",
    "\n",
    "Vamos a crear algunos arrays NumPy para usar en nuestros ejemplos. En NumPy, puedes crear un array utilizando la función `np.array()`, pasando una lista como argumento:"
   ]
  },
  {
   "cell_type": "code",
   "execution_count": 3,
   "metadata": {},
   "outputs": [
    {
     "name": "stdout",
     "output_type": "stream",
     "text": [
      "[1 2 3]\n"
     ]
    }
   ],
   "source": [
    "a = np.array([1, 2, 3])\n",
    "print(a)"
   ]
  },
  {
   "attachments": {},
   "cell_type": "markdown",
   "metadata": {},
   "source": [
    "También puedes crear un **array de dos dimensiones (una matriz)** pasando una lista de listas:"
   ]
  },
  {
   "cell_type": "code",
   "execution_count": 4,
   "metadata": {},
   "outputs": [
    {
     "name": "stdout",
     "output_type": "stream",
     "text": [
      "[[1 2 3]\n",
      " [4 5 6]]\n"
     ]
    }
   ],
   "source": [
    "b = np.array([[1, 2, 3], [4, 5, 6]])\n",
    "print(b)"
   ]
  },
  {
   "attachments": {},
   "cell_type": "markdown",
   "metadata": {},
   "source": [
    "#### E/S con NumPy\n",
    "\n",
    "NumPy proporciona varias funciones para guardar y cargar datos de y hacia el disco.\n",
    "\n",
    "Aquí hay un ejemplo de cómo puedes **guardar un array en un archivo binario en formato .npy y luego cargarlo** de nuevo:"
   ]
  },
  {
   "cell_type": "code",
   "execution_count": 5,
   "metadata": {},
   "outputs": [
    {
     "name": "stdout",
     "output_type": "stream",
     "text": [
      "[1 2 3 4 5 6]\n"
     ]
    }
   ],
   "source": [
    "# Crear un array\n",
    "a = np.array([1, 2, 3, 4, 5, 6])\n",
    "\n",
    "# Guardar el array en un archivo .npy\n",
    "np.save('data/array_a.npy', a)\n",
    "\n",
    "# Cargar el array desde el archivo\n",
    "b = np.load('data/array_a.npy')\n",
    "\n",
    "print(b)"
   ]
  },
  {
   "attachments": {},
   "cell_type": "markdown",
   "metadata": {},
   "source": [
    "También puedes guardar y cargar texto con las funciones `np.savetxt` y `np.loadtxt`.\n",
    "\n",
    "Aquí hay un ejemplo de cómo puedes **guardar un array en un archivo de texto y luego** cargarlo de nuevo:"
   ]
  },
  {
   "cell_type": "code",
   "execution_count": 6,
   "metadata": {},
   "outputs": [
    {
     "name": "stdout",
     "output_type": "stream",
     "text": [
      "[1. 2. 3. 4. 5. 6.]\n"
     ]
    }
   ],
   "source": [
    "# Guardar el array en un archivo de texto\n",
    "np.savetxt('data/array_a.txt', a)\n",
    "\n",
    "# Cargar el array desde el archivo de texto\n",
    "c = np.loadtxt('data/array_a.txt')\n",
    "\n",
    "print(c)"
   ]
  },
  {
   "attachments": {},
   "cell_type": "markdown",
   "metadata": {},
   "source": [
    "Estas funciones te permiten guardar tus datos y cargarlos más tarde, lo cual es especialmente útil cuando trabajas con grandes conjuntos de datos.\n",
    "\n",
    "## NumPy - Operaciones/Metodos/Conceptos\n",
    "\n",
    "### Creación de arrays\n",
    "\n",
    "En NumPy, la creación de arrays es sencilla.\n",
    "\n",
    "Aquí hay un ejemplo de cómo **crear un array de una dimensión**:"
   ]
  },
  {
   "cell_type": "code",
   "execution_count": 7,
   "metadata": {},
   "outputs": [
    {
     "name": "stdout",
     "output_type": "stream",
     "text": [
      "[1 2 3]\n"
     ]
    }
   ],
   "source": [
    "a = np.array([1, 2, 3])    # Crea un array 'a', con los valores 1, 2 y 3\n",
    "print(a)"
   ]
  },
  {
   "attachments": {},
   "cell_type": "markdown",
   "metadata": {},
   "source": [
    "### Operaciones básicas\n",
    "\n",
    "Las operaciones matemáticas básicas en NumPy son elementales, lo que significa que se realizan elemento por elemento.\n",
    "\n",
    "Aquí hay un ejemplo de cómo **sumar dos arrays**:"
   ]
  },
  {
   "cell_type": "code",
   "execution_count": 8,
   "metadata": {},
   "outputs": [
    {
     "name": "stdout",
     "output_type": "stream",
     "text": [
      "[5 7 9]\n"
     ]
    }
   ],
   "source": [
    "a = np.array([1, 2, 3])\n",
    "b = np.array([4, 5, 6])\n",
    "c = a + b   # Suma los arrays 'a' y 'b' para producir el array 'c'\n",
    "print(c)"
   ]
  },
  {
   "attachments": {},
   "cell_type": "markdown",
   "metadata": {},
   "source": [
    "### Indexación y slicing\n",
    "\n",
    "La indexación y el slicing en NumPy funcionan de manera similar a como lo hacen en las listas de Python.\n",
    "\n",
    "Aquí hay un ejemplo de cómo **acceder al primer elemento** de un array:"
   ]
  },
  {
   "cell_type": "code",
   "execution_count": 9,
   "metadata": {},
   "outputs": [
    {
     "name": "stdout",
     "output_type": "stream",
     "text": [
      "1\n"
     ]
    }
   ],
   "source": [
    "a = np.array([1, 2, 3])\n",
    "first_element = a[0]    # Obtiene el primer elemento del array 'a'\n",
    "print(first_element)"
   ]
  },
  {
   "attachments": {},
   "cell_type": "markdown",
   "metadata": {},
   "source": [
    "### Funciones de agregación\n",
    "\n",
    "NumPy proporciona una serie de funciones de agregación, como `np.sum`, `np.min`, `np.max`, `np.mean`, y muchas más.\n",
    "\n",
    "Aquí hay un ejemplo de cómo calcular la **suma de un array**:"
   ]
  },
  {
   "cell_type": "code",
   "execution_count": 10,
   "metadata": {},
   "outputs": [
    {
     "name": "stdout",
     "output_type": "stream",
     "text": [
      "6\n"
     ]
    }
   ],
   "source": [
    "a = np.array([1, 2, 3])\n",
    "sum_of_a = np.sum(a)    # Calcula la suma del array 'a'\n",
    "print(sum_of_a)"
   ]
  },
  {
   "attachments": {},
   "cell_type": "markdown",
   "metadata": {},
   "source": [
    "### Manipulación de formas\n",
    "\n",
    "Puedes cambiar la forma de un array en NumPy utilizando la función `reshape`.\n",
    "\n",
    "Aquí hay un ejemplo de cómo **cambiar la forma de un array** para que tenga dos filas y dos columnas:"
   ]
  },
  {
   "cell_type": "code",
   "execution_count": 11,
   "metadata": {},
   "outputs": [
    {
     "name": "stdout",
     "output_type": "stream",
     "text": [
      "[[1 2]\n",
      " [3 4]]\n"
     ]
    }
   ],
   "source": [
    "a = np.array([1, 2, 3, 4])\n",
    "b = a.reshape(2, 2)    # Cambia la forma del array 'a' para que sea un array de 2x2, 'b'\n",
    "print(b)"
   ]
  },
  {
   "attachments": {},
   "cell_type": "markdown",
   "metadata": {},
   "source": [
    "### Broadcasting\n",
    "\n",
    "El broadcasting es una característica poderosa que permite a NumPy trabajar con arrays de diferentes formas al realizar operaciones aritméticas.\n",
    "\n",
    "Aquí hay un ejemplo de cómo se puede **sumar un número a todos los elementos de un array**:"
   ]
  },
  {
   "cell_type": "code",
   "execution_count": 12,
   "metadata": {},
   "outputs": [
    {
     "name": "stdout",
     "output_type": "stream",
     "text": [
      "[6 7 8]\n"
     ]
    }
   ],
   "source": [
    "a = np.array([1, 2, 3])\n",
    "b = a + 5    # Suma 5 a cada elemento del array 'a' para producir el array 'b'\n",
    "print(b)"
   ]
  },
  {
   "attachments": {},
   "cell_type": "markdown",
   "metadata": {},
   "source": [
    "### Vectorización\n",
    "\n",
    "La vectorización es un poderoso concepto en NumPy que permite realizar **operaciones en arrays enteros en lugar de en elementos individuales**. Esto puede hacer que tu código sea más eficiente y más fácil de leer.\n",
    "\n",
    "Aquí hay un ejemplo de cómo puedes **sumar dos arrays utilizando la vectorización**:"
   ]
  },
  {
   "cell_type": "code",
   "execution_count": 13,
   "metadata": {},
   "outputs": [
    {
     "name": "stdout",
     "output_type": "stream",
     "text": [
      "[5 7 9]\n"
     ]
    }
   ],
   "source": [
    "a = np.array([1, 2, 3])\n",
    "b = np.array([4, 5, 6])\n",
    "c = a + b\n",
    "print(c)"
   ]
  },
  {
   "attachments": {},
   "cell_type": "markdown",
   "metadata": {},
   "source": [
    "En este ejemplo, `a + b` suma los dos arrays elemento por elemento, lo que es mucho más eficiente que hacer un bucle para sumar los elementos individualmente.\n",
    "\n",
    "### Vistas\n",
    "\n",
    "Una vista en NumPy es una forma de **acceder a los datos de un array sin hacer una copia**. Esto puede ser útil para ahorrar memoria cuando estás trabajando con arrays grandes.\n",
    "\n",
    "Aquí hay un ejemplo de cómo puedes crear una **vista de un array**:"
   ]
  },
  {
   "cell_type": "code",
   "execution_count": 21,
   "metadata": {},
   "outputs": [
    {
     "name": "stdout",
     "output_type": "stream",
     "text": [
      "[5 6]\n"
     ]
    }
   ],
   "source": [
    "a = np.array([1, 2, 3, 4, 5, 6])\n",
    "b = a[2:5]\n",
    "print(b)"
   ]
  },
  {
   "attachments": {},
   "cell_type": "markdown",
   "metadata": {},
   "source": [
    "En este ejemplo, `b` es una vista de `a`. Si cambias los datos en `b`, también cambiarán en `a`.\n",
    "\n",
    "### Copias\n",
    "\n",
    "A diferencia de las vistas, una copia de un array en NumPy es una nueva matriz que contiene los mismos datos que el array original. Si cambias los datos en la copia, no afectará al array original.\n",
    "\n",
    "Aquí hay un ejemplo de cómo puedes hacer una **copia de un array**:"
   ]
  },
  {
   "cell_type": "code",
   "execution_count": 15,
   "metadata": {},
   "outputs": [
    {
     "name": "stdout",
     "output_type": "stream",
     "text": [
      "[1 2 3 4 5 6]\n"
     ]
    }
   ],
   "source": [
    "a = np.array([1, 2, 3, 4, 5, 6])\n",
    "b = a.copy()\n",
    "print(b)"
   ]
  },
  {
   "attachments": {},
   "cell_type": "markdown",
   "metadata": {},
   "source": [
    "En este ejemplo, `b` es una copia de `a`. Si cambias los datos en `b`, no afectará a `a`."
   ]
  }
 ],
 "metadata": {
  "kernelspec": {
   "display_name": "venv",
   "language": "python",
   "name": "python3"
  },
  "language_info": {
   "codemirror_mode": {
    "name": "ipython",
    "version": 3
   },
   "file_extension": ".py",
   "mimetype": "text/x-python",
   "name": "python",
   "nbconvert_exporter": "python",
   "pygments_lexer": "ipython3",
   "version": "3.10.11"
  },
  "orig_nbformat": 4
 },
 "nbformat": 4,
 "nbformat_minor": 2
}
