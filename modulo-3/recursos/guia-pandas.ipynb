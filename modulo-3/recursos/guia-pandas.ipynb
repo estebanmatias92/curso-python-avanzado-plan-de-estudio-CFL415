{
 "cells": [
  {
   "attachments": {},
   "cell_type": "markdown",
   "metadata": {},
   "source": [
    "# Guía de Pandas\n",
    "\n",
    "## Introducción y Contexto\n",
    "\n",
    "**Pandas es una biblioteca** de Python que proporciona **estructuras de datos y herramientas de análisis de datos** flexibles y eficientes. Es una de las herramientas más utilizadas en la ciencia de datos y el análisis de datos. Si ya estás familiarizado con NumPy, te resultará fácil aprender Pandas, ya que se basa en NumPy.\n",
    "\n",
    "Pandas introduce dos nuevas estructuras de datos a Python - **Series** y **DataFrame**, ambas construidas sobre NumPy. Una **Serie es una matriz unidimensional** que puede contener cualquier tipo de datos, mientras que un **DataFrame es una estructura de datos bidimensional**, similar a una tabla de base de datos o una hoja de cálculo de Excel.\n",
    "\n",
    "## Preparación de Datos para trabajar\n",
    "\n",
    "### Instalación y preparación de herramientas\n",
    "\n",
    "Para instalar Pandas, puedes usar pip, que es el instalador de paquetes de Python. En tu terminal, simplemente ejecuta:\n",
    "\n",
    "```bash\n",
    "pip install pandas\n",
    "```\n",
    "\n",
    "Para usar Pandas en tu script de Python, debes importarlo. La convención común es importarlo bajo el alias `pd`:"
   ]
  },
  {
   "cell_type": "code",
   "execution_count": 1,
   "metadata": {},
   "outputs": [],
   "source": [
    "import numpy as np\n",
    "import pandas as pd\n"
   ]
  },
  {
   "attachments": {},
   "cell_type": "markdown",
   "metadata": {},
   "source": [
    "### Creación/obtención de datos para la guía\n",
    "\n",
    "Vamos a crear algunas Series y DataFrames de Pandas para usar en nuestros ejemplos. En Pandas, puedes crear una Serie utilizando la función `pd.Series()`, pasando una lista como argumento:"
   ]
  },
  {
   "cell_type": "code",
   "execution_count": 2,
   "metadata": {},
   "outputs": [
    {
     "name": "stdout",
     "output_type": "stream",
     "text": [
      "0    1.0\n",
      "1    3.0\n",
      "2    5.0\n",
      "3    NaN\n",
      "4    6.0\n",
      "5    8.0\n",
      "dtype: float64\n"
     ]
    }
   ],
   "source": [
    "s = pd.Series([1, 3, 5, np.nan, 6, 8])\n",
    "print(s)"
   ]
  },
  {
   "attachments": {},
   "cell_type": "markdown",
   "metadata": {},
   "source": [
    "También puedes crear un DataFrame pasando un diccionario de objetos que pueden ser convertidos en series-like:"
   ]
  },
  {
   "cell_type": "code",
   "execution_count": 3,
   "metadata": {},
   "outputs": [
    {
     "name": "stdout",
     "output_type": "stream",
     "text": [
      "           A    B  C      D    E\n",
      "0 2023-05-06  1.0  3   test  foo\n",
      "1 2023-05-06  1.0  3  train  foo\n",
      "2 2023-05-06  1.0  3   test  foo\n",
      "3 2023-05-06  1.0  3  train  foo\n"
     ]
    }
   ],
   "source": [
    "df = pd.DataFrame({\n",
    "    'A': pd.Timestamp('20230506'),\n",
    "    'B': pd.Series(1, index=list(range(4)), dtype='float32'),\n",
    "    'C': np.array([3] * 4, dtype='int32'),\n",
    "    'D': pd.Categorical([\"test\", \"train\", \"test\", \"train\"]),\n",
    "    'E': 'foo'\n",
    "})\n",
    "print(df)"
   ]
  },
  {
   "attachments": {},
   "cell_type": "markdown",
   "metadata": {},
   "source": [
    "#### E/S con Pandas\n",
    "\n",
    "Pandas proporciona funciones para leer y escribir DataFrames de/a varios formatos de archivos, incluyendo CSV, Excel, SQL, etc.\n",
    "\n",
    "Aquí hay un ejemplo de cómo puedes **leer un DataFrame de un [archivo CSV](https://github.com/estebanmatias92/curso-python-avanzado-plan-de-estudio-CFL415/blob/main/modulo-3/demo/data/avocado.csv) y luego escribirlo en un nuevo archivo CSV**:"
   ]
  },
  {
   "cell_type": "code",
   "execution_count": 4,
   "metadata": {},
   "outputs": [],
   "source": [
    "# Leer de un archivo CSV\n",
    "df = pd.read_csv('data/avocado.csv')\n",
    "\n",
    "# Realizar algunas operaciones...\n",
    "df['TotalPrice'] = df['AveragePrice'] * df['Total Volume']\n",
    "\n",
    "# Escribir en un nuevo archivo CSV\n",
    "df.to_csv('data/avocado_total_prices.csv', index=False)"
   ]
  },
  {
   "attachments": {},
   "cell_type": "markdown",
   "metadata": {},
   "source": [
    "## Pandas - Operaciones/Metodos/Conceptos\n",
    "\n",
    "### Creación de Series y DataFrames\n",
    "\n",
    "Ya hemos visto cómo crear Series y DataFrames en la sección anterior. Recuerda que una Serie es una matriz unidimensional que puede contener cualquier tipo de datos, mientras que un DataFrame es una estructura de datos bidimensional, similar a una tabla de base de datos o una hoja de cálculo de Excel.\n",
    "\n",
    "### Visualización de datos\n",
    "\n",
    "Pandas se integra bien con Matplotlib para crear gráficos a partir de DataFrames y Series.\n",
    "\n",
    "Aquí hay un ejemplo de cómo puedes visualizar los datos de un DataFrame:"
   ]
  },
  {
   "cell_type": "code",
   "execution_count": 5,
   "metadata": {},
   "outputs": [
    {
     "data": {
      "image/png": "[encoded data removed]",
      "text/plain": [
       "<Figure size 640x480 with 1 Axes>"
      ]
     },
     "metadata": {},
     "output_type": "display_data"
    }
   ],
   "source": [
    "import matplotlib.pyplot as plt\n",
    "\n",
    "df = pd.DataFrame({\n",
    "    'A': [1, 2, 3, 4],\n",
    "    'B': [4, 3, 2, 1]\n",
    "})\n",
    "\n",
    "df.plot(kind='bar')\n",
    "plt.show()"
   ]
  },
  {
   "attachments": {},
   "cell_type": "markdown",
   "metadata": {},
   "source": [
    "Resultado: Se mostrará un gráfico de barras con los datos del DataFrame.\n",
    "\n",
    "### Operaciones básicas\n",
    "\n",
    "Las operaciones básicas en Pandas son **similares a las de NumPy**, pero están diseñadas para trabajar con DataFrames y Series.\n",
    "\n",
    "Aquí hay un ejemplo de cómo sumar dos Series:"
   ]
  },
  {
   "cell_type": "code",
   "execution_count": 6,
   "metadata": {},
   "outputs": [
    {
     "name": "stdout",
     "output_type": "stream",
     "text": [
      "0    5\n",
      "1    7\n",
      "2    9\n",
      "dtype: int64\n"
     ]
    }
   ],
   "source": [
    "a = pd.Series([1, 2, 3])\n",
    "b = pd.Series([4, 5, 6])\n",
    "c = a + b\n",
    "print(c)"
   ]
  },
  {
   "attachments": {},
   "cell_type": "markdown",
   "metadata": {},
   "source": [
    "### Indexación y slicing\n",
    "\n",
    "La **indexación y el slicing en Pandas funcionan de manera similar a como lo hacen en las listas de Python**, pero también puedes indexar por etiqueta utilizando el índice del DataFrame.\n",
    "\n",
    "Aquí hay un ejemplo de cómo acceder a una columna de un DataFrame:"
   ]
  },
  {
   "cell_type": "code",
   "execution_count": 7,
   "metadata": {},
   "outputs": [
    {
     "name": "stdout",
     "output_type": "stream",
     "text": [
      "0    3\n",
      "1    2\n",
      "2    0\n",
      "3    1\n",
      "Name: apples, dtype: int64\n"
     ]
    }
   ],
   "source": [
    "data = {\n",
    "    'apples': [3, 2, 0, 1], \n",
    "    'oranges': [0, 3, 7, 2]\n",
    "}\n",
    "purchases = pd.DataFrame(data)\n",
    "apples = purchases['apples']\n",
    "print(apples)"
   ]
  },
  {
   "attachments": {},
   "cell_type": "markdown",
   "metadata": {},
   "source": [
    "### Funciones de agregación\n",
    "\n",
    "Pandas proporciona una serie de funciones de agregación, como `mean`, `sum`, `min`, `max`, y muchas más.\n",
    "\n",
    "Aquí hay un ejemplo de cómo calcular la suma de una columna de un DataFrame:"
   ]
  },
  {
   "cell_type": "code",
   "execution_count": 8,
   "metadata": {},
   "outputs": [
    {
     "name": "stdout",
     "output_type": "stream",
     "text": [
      "6\n"
     ]
    }
   ],
   "source": [
    "data = {\n",
    "    'apples': [3, 2, 0, 1], \n",
    "    'oranges': [0, 3, 7, 2]\n",
    "}\n",
    "purchases = pd.DataFrame(data)\n",
    "sum_of_apples = purchases['apples'].sum()\n",
    "print(sum_of_apples)"
   ]
  },
  {
   "attachments": {},
   "cell_type": "markdown",
   "metadata": {},
   "source": [
    "### Manipulación de formas\n",
    "\n",
    "Puedes **cambiar la forma de un DataFrame** en Pandas utilizando funciones como `pivot`.\n",
    "\n",
    "Aquí hay un ejemplo de cómo pivotar un DataFrame:"
   ]
  },
  {
   "cell_type": "code",
   "execution_count": 9,
   "metadata": {},
   "outputs": [
    {
     "name": "stdout",
     "output_type": "stream",
     "text": [
      "fruit   apples  oranges\n",
      "city                   \n",
      "Austin     100      150\n",
      "Dallas      80      200\n"
     ]
    }
   ],
   "source": [
    "data = {\n",
    "    'fruit': ['apples', 'apples', 'oranges', 'oranges'],\n",
    "    'city': ['Austin', 'Dallas', 'Austin', 'Dallas'],\n",
    "    'sales': [100, 80, 150, 200]\n",
    "}\n",
    "df = pd.DataFrame(data)\n",
    "pivot_df = df.pivot(index='city', columns='fruit', values='sales')\n",
    "print(pivot_df)"
   ]
  },
  {
   "attachments": {},
   "cell_type": "markdown",
   "metadata": {},
   "source": [
    "### Más allá de lo básico\n",
    "\n",
    "#### Manejo de datos faltantes\n",
    "\n",
    "En la vida real, los datos a menudo tienen valores faltantes. Pandas proporciona métodos para manejar los datos faltantes de manera eficiente.\n",
    "\n",
    "Aquí hay un ejemplo de cómo puedes rellenar los valores faltantes con un valor específico:"
   ]
  },
  {
   "cell_type": "code",
   "execution_count": 10,
   "metadata": {},
   "outputs": [
    {
     "name": "stdout",
     "output_type": "stream",
     "text": [
      "     A    B  C\n",
      "0  1.0  5.0  1\n",
      "1  2.0  0.0  2\n",
      "2  0.0  0.0  3\n"
     ]
    }
   ],
   "source": [
    "df = pd.DataFrame({\n",
    "    'A': [1, 2, np.nan],\n",
    "    'B': [5, np.nan, np.nan],\n",
    "    'C': [1, 2, 3]\n",
    "})\n",
    "df_filled = df.fillna(value=0)\n",
    "print(df_filled)"
   ]
  },
  {
   "attachments": {},
   "cell_type": "markdown",
   "metadata": {},
   "source": [
    "#### Combinación de DataFrames\n",
    "\n",
    "Pandas proporciona varias formas de combinar DataFrames, incluyendo `merge`, `join`, y `concat`.\n",
    "\n",
    "Aquí hay un ejemplo de cómo puedes unir dos DataFrames en base a una columna común:"
   ]
  },
  {
   "cell_type": "code",
   "execution_count": 11,
   "metadata": {},
   "outputs": [
    {
     "name": "stdout",
     "output_type": "stream",
     "text": [
      "    A   B key   C   D\n",
      "0  A0  B0  K0  C0  D0\n",
      "1  A1  B1  K1  C1  D1\n",
      "2  A2  B2  K2  C2  D2\n"
     ]
    }
   ],
   "source": [
    "df1 = pd.DataFrame({\n",
    "    'A': ['A0', 'A1', 'A2'],\n",
    "    'B': ['B0', 'B1', 'B2'],\n",
    "    'key': ['K0', 'K1', 'K2']\n",
    "})\n",
    "\n",
    "df2 = pd.DataFrame({\n",
    "    'C': ['C0', 'C1', 'C2'],\n",
    "    'D': ['D0', 'D1', 'D2'],\n",
    "    'key': ['K0', 'K1', 'K2']\n",
    "})\n",
    "\n",
    "merged = pd.merge(df1, df2, on='key')\n",
    "print(merged)"
   ]
  },
  {
   "attachments": {},
   "cell_type": "markdown",
   "metadata": {},
   "source": [
    "#### Agrupamiento y agregación de datos\n",
    "\n",
    "El agrupamiento y la agregación de datos son técnicas poderosas que te permiten realizar análisis de datos más complejos.\n",
    "\n",
    "Aquí hay un ejemplo de cómo puedes agrupar un DataFrame por una columna y calcular la suma de las otras columnas para cada grupo:"
   ]
  },
  {
   "cell_type": "code",
   "execution_count": 12,
   "metadata": {},
   "outputs": [
    {
     "name": "stdout",
     "output_type": "stream",
     "text": [
      "                     B         C         D\n",
      "A                                         \n",
      "bar        onethreetwo  1.190518 -0.249542\n",
      "foo  onetwotwoonethree  0.581825  2.574752\n"
     ]
    }
   ],
   "source": [
    "df = pd.DataFrame({\n",
    "    'A': ['foo', 'bar', 'foo', 'bar', 'foo', 'bar', 'foo', 'foo'],\n",
    "    'B': ['one', 'one', 'two', 'three', 'two', 'two', 'one', 'three'],\n",
    "    'C': np.random.randn(8),\n",
    "    'D': np.random.randn(8)\n",
    "})\n",
    "\n",
    "grouped = df.groupby('A').sum()\n",
    "print(grouped)"
   ]
  },
  {
   "attachments": {},
   "cell_type": "markdown",
   "metadata": {},
   "source": [
    "(los números variarán debido a la generación aleatoria)"
   ]
  }
 ],
 "metadata": {
  "kernelspec": {
   "display_name": "venv",
   "language": "python",
   "name": "python3"
  },
  "language_info": {
   "codemirror_mode": {
    "name": "ipython",
    "version": 3
   },
   "file_extension": ".py",
   "mimetype": "text/x-python",
   "name": "python",
   "nbconvert_exporter": "python",
   "pygments_lexer": "ipython3",
   "version": "3.10.11"
  },
  "orig_nbformat": 4
 },
 "nbformat": 4,
 "nbformat_minor": 2
}
