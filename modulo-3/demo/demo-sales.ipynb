{
 "cells": [
  {
   "attachments": {},
   "cell_type": "markdown",
   "metadata": {},
   "source": [
    "# Numpy, Pandas - Carga y Manipulacion de Datos\n",
    "\n",
    "## Introduccion del Dataset\n",
    "\n",
    "Utilizaremos una base de datos de ventas con las siguientes tablas: Customers, Products, Orders y OrderItems. [**Schema SQL**](https://github.com/estebanmatias92/curso-python-avanzado-plan-de-estudio-CFL415/blob/main/modulo-3/demo/data/sales.sql)\n",
    "\n",
    "### Customers\n",
    "\n",
    "| Campo | Tipo | Especificaciones |\n",
    "| --- | --- | --- |\n",
    "| CustomerID | INTEGER | PRIMARY KEY |\n",
    "| FirstName | TEXT | |\n",
    "| LastName | TEXT | |\n",
    "| Email | TEXT | |\n",
    "\n",
    "### Products\n",
    "\n",
    "| Campo | Tipo | Especificaciones |\n",
    "| --- | --- | --- |\n",
    "| ProductID | INTEGER | PRIMARY KEY |\n",
    "| ProductName | TEXT | |\n",
    "| Price | REAL | |\n",
    "\n",
    "### Orders\n",
    "\n",
    "| Campo | Tipo | Especificaciones |\n",
    "| --- | --- | --- |\n",
    "| OrderID | INTEGER | PRIMARY KEY |\n",
    "| CustomerID | INTEGER | FOREIGN KEY REFERENCES Customers(CustomerID) |\n",
    "| OrderDate | DATE | |\n",
    "\n",
    "### OrderItems\n",
    "\n",
    "| Campo | Tipo | Especificaciones |\n",
    "| --- | --- | --- |\n",
    "| OrderItemID | INTEGER | PRIMARY KEY |\n",
    "| OrderID | INTEGER | FOREIGN KEY REFERENCES Orders(OrderID) |\n",
    "| ProductID | INTEGER | FOREIGN KEY REFERENCES Products(ProductID) |\n",
    "| Quantity | INTEGER | |\n",
    "\n",
    "## Carga de Datos\n",
    "\n",
    "Usaremos la libreria **sqlite3** de Python para crear la base de datos a partir de un **script sql** ([sales.sql](https://github.com/estebanmatias92/curso-python-avanzado-plan-de-estudio-CFL415/blob/main/modulo-3/demo/sales.sql)). Esto creara e inicizalizara con valores la base de datos y nos conectara a ella.\n",
    "Luego con **Pandas** podremos para cargar las tablas de la DB en **DataFrames** para luego manipular los datos."
   ]
  },
  {
   "cell_type": "code",
   "execution_count": 9,
   "metadata": {},
   "outputs": [
    {
     "name": "stdout",
     "output_type": "stream",
     "text": [
      "\n",
      "    CustomerID FirstName LastName                      Email\n",
      "0           1    George    Davis   george.davis@example.com\n",
      "1           2    Hannah   Garcia  hannah.garcia@example.com\n",
      "\n",
      "    ProductID ProductName  Price\n",
      "0          1   Raspberry    3.0\n",
      "1          2      Orange    0.8\n",
      "\n",
      "    OrderID  CustomerID   OrderDate\n",
      "0        1           7  2023-01-01\n",
      "1        2           2  2023-01-01\n",
      "\n",
      "              OrderID  ProductID  Quantity\n",
      "OrderItemID                              \n",
      "1                  1          8         9\n",
      "2                  2         14         7\n"
     ]
    },
    {
     "ename": "",
     "evalue": "",
     "output_type": "error",
     "traceback": [
      "\u001b[1;31mThe Kernel crashed while executing code in the the current cell or a previous cell. Please review the code in the cell(s) to identify a possible cause of the failure. Click <a href='https://aka.ms/vscodeJupyterKernelCrash'>here</a> for more info. View Jupyter <a href='command:jupyter.viewOutput'>log</a> for further details."
     ]
    }
   ],
   "source": [
    "import sqlite3\n",
    "import pandas as pd\n",
    "\n",
    "# Crea una conexión a la base de datos (se creará si no existe)\n",
    "conn = sqlite3.connect('data/sales.db')\n",
    "\n",
    "# Abre el archivo SQL\n",
    "with open('data/sales.sql', 'r') as sql_file:\n",
    "    sql_script = sql_file.read()\n",
    "\n",
    "# Ejecuta el script SQL\n",
    "conn.executescript(sql_script)\n",
    "\n",
    "# Cargar los datos en un DataFrame\n",
    "df_customers = pd.read_sql_query('SELECT * FROM Customers', conn)\n",
    "df_products = pd.read_sql_query('SELECT * FROM Products', conn)\n",
    "df_orders = pd.read_sql_query('SELECT * FROM Orders', conn)\n",
    "df_order_items = pd.read_sql_query('SELECT * FROM OrderItems', conn).set_index(\"OrderItemID\")\n",
    "\n",
    "# Mostrar los primeros valores de cada DataFrame\n",
    "print(\"\\n\", df_customers.head(2))\n",
    "print(\"\\n\", df_products.head(2))\n",
    "print(\"\\n\", df_orders.head(2))\n",
    "print(\"\\n\", df_order_items.head(2))\n",
    "\n",
    "# Cerrar la conexión a la base de datos\n",
    "conn.close()"
   ]
  },
  {
   "attachments": {},
   "cell_type": "markdown",
   "metadata": {},
   "source": [
    "## Numpy\n",
    "\n",
    "Podemos usar Numpy para realizar cálculos en los datos de las tablas. Por ejemplo, podríamos calcular el precio total de cada pedido."
   ]
  },
  {
   "cell_type": "code",
   "execution_count": 2,
   "metadata": {},
   "outputs": [
    {
     "name": "stdout",
     "output_type": "stream",
     "text": [
      "Precios totales: [24.   4.   3.4  6.3  2.  10.8 11.   8.1  2.  22.  24.   2.1  2.4 15.6\n",
      " 16.9  6.5 12.8 17.5  6.  20.7]\n"
     ]
    }
   ],
   "source": [
    "import numpy as np\n",
    "\n",
    "# Agroupar la tabla OrderItems por ProductID para reducir los 30 registros a 20 \n",
    "quantity_by_product = df_order_items.groupby('ProductID')['Quantity'].sum().reset_index()\n",
    "# Hacer join de la tabla Products con la tabla OrderItems a traves del campo 'ProductID'\n",
    "merged_products_order_items = pd.merge(df_products, quantity_by_product, on='ProductID')\n",
    "\n",
    "# Convertir las columnas de precios y cantidades a arrays de Numpy\n",
    "prices = np.array(df_products['Price']) \n",
    "quantities = np.array(merged_products_order_items['Quantity'])\n",
    "#print(\"Precios productos: \", prices) # 20 elementos\n",
    "#print(\"Cantidades productos: \", quantities) # 20 elementos\n",
    "\n",
    "# Calcular el precio total de cada pedido\n",
    "total_prices = prices * quantities\n",
    "print(\"Precios totales:\", total_prices)"
   ]
  },
  {
   "attachments": {},
   "cell_type": "markdown",
   "metadata": {},
   "source": [
    "## Pandas\n",
    "\n",
    "Podemos usar Pandas para manipular y analizar los datos de las tablas. Por ejemplo, podríamos agrupar los pedidos por cliente y calcular el total de ventas para cada cliente."
   ]
  },
  {
   "cell_type": "code",
   "execution_count": 3,
   "metadata": {},
   "outputs": [
    {
     "name": "stdout",
     "output_type": "stream",
     "text": [
      "CustomerID\n",
      "1     20.2\n",
      "2     15.9\n",
      "3     34.4\n",
      "4     17.0\n",
      "5     29.5\n",
      "6     19.8\n",
      "7     28.8\n",
      "8     17.4\n",
      "9     29.1\n",
      "10     6.0\n",
      "Name: TotalPrice, dtype: float64\n"
     ]
    }
   ],
   "source": [
    "# Unir los DataFrames\n",
    "df = pd.merge(df_orders, df_order_items, on='OrderID')\n",
    "df = pd.merge(df, df_products, on='ProductID')\n",
    "\n",
    "# Calcular el total de ventas para cada pedido\n",
    "df['TotalPrice'] = df['Price'] * df['Quantity']\n",
    "\n",
    "# Agrupar por CustomerID y calcular el total de ventas para cada cliente\n",
    "total_sales = df.groupby('CustomerID')['TotalPrice'].sum()\n",
    "print(total_sales)"
   ]
  },
  {
   "attachments": {},
   "cell_type": "markdown",
   "metadata": {},
   "source": [
    "## Matplotlib\n",
    "\n",
    "Podemos usar Matplotlib para visualizar los datos de las tablas. Por ejemplo, podríamos crear un gráfico de barras del total de ventas para cada cliente."
   ]
  },
  {
   "cell_type": "code",
   "execution_count": 4,
   "metadata": {},
   "outputs": [
    {
     "data": {
      "image/png": "[encoded data removed]",
      "text/plain": [
       "<Figure size 640x480 with 1 Axes>"
      ]
     },
     "metadata": {},
     "output_type": "display_data"
    }
   ],
   "source": [
    "import matplotlib.pyplot as plt\n",
    "\n",
    "# Crear un gráfico de barras del total de ventas para cada cliente\n",
    "plt.bar(total_sales.index, total_sales.values)\n",
    "plt.xlabel('Customer ID')\n",
    "plt.ylabel('Total Sales')\n",
    "plt.show()"
   ]
  }
 ],
 "metadata": {
  "kernelspec": {
   "display_name": "venv",
   "language": "python",
   "name": "python3"
  },
  "language_info": {
   "codemirror_mode": {
    "name": "ipython",
    "version": 3
   },
   "file_extension": ".py",
   "mimetype": "text/x-python",
   "name": "python",
   "nbconvert_exporter": "python",
   "pygments_lexer": "ipython3",
   "version": "3.10.11"
  },
  "orig_nbformat": 4
 },
 "nbformat": 4,
 "nbformat_minor": 2
}
